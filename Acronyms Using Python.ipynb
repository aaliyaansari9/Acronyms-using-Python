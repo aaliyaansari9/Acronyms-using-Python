{
 "cells": [
  {
   "cell_type": "code",
   "execution_count": 1,
   "id": "94e58f09-96d4-4aec-9995-346465cd71a9",
   "metadata": {},
   "outputs": [
    {
     "name": "stdin",
     "output_type": "stream",
     "text": [
      "Enter a phrase: Wilsonia college\n"
     ]
    },
    {
     "name": "stdout",
     "output_type": "stream",
     "text": [
      "WC\n"
     ]
    }
   ],
   "source": [
    "input = str(input('Enter a phrase:'))\n",
    "text = input.split()\n",
    "Acr = ''\n",
    "for i in text:\n",
    "    Acr = Acr + str(i[0]).upper()\n",
    "print(Acr)"
   ]
  },
  {
   "cell_type": "code",
   "execution_count": null,
   "id": "784a8cfb-76f6-465a-ae36-e97a878d8e74",
   "metadata": {},
   "outputs": [],
   "source": []
  }
 ],
 "metadata": {
  "kernelspec": {
   "display_name": "Python 3 (ipykernel)",
   "language": "python",
   "name": "python3"
  },
  "language_info": {
   "codemirror_mode": {
    "name": "ipython",
    "version": 3
   },
   "file_extension": ".py",
   "mimetype": "text/x-python",
   "name": "python",
   "nbconvert_exporter": "python",
   "pygments_lexer": "ipython3",
   "version": "3.12.6"
  }
 },
 "nbformat": 4,
 "nbformat_minor": 5
}
